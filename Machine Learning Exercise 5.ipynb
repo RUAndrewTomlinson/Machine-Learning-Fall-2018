{
 "cells": [
  {
   "cell_type": "markdown",
   "metadata": {},
   "source": [
    "$\\bf{Objective}$: In this exercise, we will reinforce the concepts of standardization of raw data, K-fold cross\n",
    "validation and naive Bayes classification. Unless otherwise instructed, you should not make use of any\n",
    "sklearn modules."
   ]
  },
  {
   "cell_type": "markdown",
   "metadata": {},
   "source": [
    "# Wine Dataset\n",
    "In this exercise, we will use the Wine dataset from UCI Machine Learning Repository. This is a three-class\n",
    "dataset comprising 178 data samples, with each sample described by a total of 13 (integer- or real-valued)\n",
    "attributes (i.e., each data sample is 13-dimensional). The three class labels of 0, 1, and 2 correspond to three\n",
    "different cultivars that gave rise to the wines included in the dataset. "
   ]
  },
  {
   "cell_type": "code",
   "execution_count": 1,
   "metadata": {},
   "outputs": [],
   "source": [
    "from sklearn.datasets import load_wine\n",
    "samples, labels = load_wine(return_X_y=True)"
   ]
  },
  {
   "cell_type": "markdown",
   "metadata": {},
   "source": [
    "# Standardization of Data\n",
    "In an earlier exercise (Exercise #2), we discussed the importance of centering of data for feature learning\n",
    "and extraction using principal component analysis (PCA). In many datasets, especially those in which a\n",
    "sample is given by attributes (raw features) that have different scaling, it is also important to both center and\n",
    "normalize the data before feature learning using PCA. (Refer to “Scaling the Variables” within Sec. 10.2.3 of\n",
    "“An Introduction to Statistical Learning” for more discussion on this topic.) In this exercise, we will focus on\n",
    "normalization that makes the (empirical) variance of each attribute unity. Data that has both been centered\n",
    "and normalized to have zero mean and unit variance at the attribute (raw feature) level is often referred to\n",
    "as standardized data.\n",
    "\n",
    "1. Center the wine dataset so that each attribute has zero (empirical) mean\n",
    "\n",
    "\n",
    "2. Compute two-dimensional PCA features of the centered wine dataset.\n",
    "   \n",
    "   • Display the two-dimensional features of wine data samples as points on a two-dimensional scatter\n",
    "    plot. Display all points corresponding to: (i) label ‘0’ as red squares, (ii) label ‘1’ as green triangles,\n",
    "    and (iii) label ‘2’ as blue circles\n",
    "\n",
    "\n",
    "3. Normalize the centered wine dataset so that each attribute also has unit (empirical) variance.\n",
    "\n",
    "\n",
    "4. Compute two-dimensional PCA features of the standardized (centered and normalized) wine dataset.\n",
    "    \n",
    "    • Display the two-dimensional features of standardized wine data samples as points on a twodimensional\n",
    "    scatter plot. Display all points corresponding to: (i) label ‘0’ as red squares, (ii) label\n",
    "    ‘1’ as green triangles, and (iii) label ‘2’ as blue circles.\n",
    "\n",
    "\n",
    "5. In your opinion, based on the above two plots, which PCA features would lead to better classification\n",
    "   performance?\n",
    "\n"
   ]
  },
  {
   "cell_type": "code",
   "execution_count": 2,
   "metadata": {},
   "outputs": [],
   "source": [
    "# Problem 1: center the dataset \n",
    "import numpy as np\n",
    "meanVector = samples.mean(axis = 0)\n",
    "#compute the center\n",
    "centeredVector = samples-meanVector\n",
    "\n",
    "#Problem 2 part 1: Compute two-dimensional PCA Features using SVD\n",
    "U, s, Vh = np.linalg.svd(centeredVector)\n",
    "U_2 = Vh.T[:,0:2]\n",
    "X_tilde = centeredVector@U_2\n",
    "\n",
    "# Next we define our labels; label0, label1, label2\n",
    "label0 = X_tilde[labels == 0]\n",
    "label1 = X_tilde[labels == 1]\n",
    "label2 = X_tilde[labels == 2]"
   ]
  },
  {
   "cell_type": "code",
   "execution_count": 3,
   "metadata": {},
   "outputs": [
    {
     "data": {
      "text/plain": [
       "<Figure size 640x480 with 1 Axes>"
      ]
     },
     "metadata": {},
     "output_type": "display_data"
    }
   ],
   "source": [
    "# Problem 2 part 2: plot the features\n",
    "import matplotlib.pyplot as plt\n",
    "plt.figure()\n",
    "plt.scatter(label0[:,0],label0[:,1], c = \"r\", marker = \"s\", label = \"label 0\" )\n",
    "plt.scatter(label1[:,0],label1[:,1], c = \"g\", marker = \"^\", label = \"label 1\" )\n",
    "plt.scatter(label2[:,0],label2[:,1], c = \"b\", marker = \"o\", label = \"label 2\" )\n",
    "\n",
    "plt.title(\"Two dimensional features of wine data samples\")\n",
    "plt.legend(loc=1)\n",
    "plt.show()"
   ]
  },
  {
   "cell_type": "code",
   "execution_count": 4,
   "metadata": {},
   "outputs": [
    {
     "data": {
      "image/png": "[encoded data removed]",
      "text/plain": [
       "<Figure size 432x288 with 1 Axes>"
      ]
     },
     "metadata": {},
     "output_type": "display_data"
    }
   ],
   "source": [
    "# Problem 3: Normalize the centered wine dataset\n",
    "standardVector = samples.std(axis = 0)\n",
    "NormalVector = centeredVector/standardVector\n",
    "\n",
    "#Problem 4: PCA on normalized vector\n",
    "# Same steps as before but using NormalVector instead of centeredVector\n",
    "U, s, Vh = np.linalg.svd(NormalVector)\n",
    "U_2 = Vh.T[:,0:2]\n",
    "X_tilde = NormalVector@U_2\n",
    "# Next we define our labels; label0, label1, label2\n",
    "label0 = X_tilde[labels == 0]\n",
    "label1 = X_tilde[labels == 1]\n",
    "label2 = X_tilde[labels == 2]\n",
    "\n",
    "#Problem 4 part 2: Plot the PCA features\n",
    "plt.figure()\n",
    "plt.scatter(label0[:,0],label0[:,1], c = \"r\", marker = \"s\", label = \"label 0\" )\n",
    "plt.scatter(label1[:,0],label1[:,1], c = \"g\", marker = \"^\", label = \"label 1\" )\n",
    "plt.scatter(label2[:,0],label2[:,1], c = \"b\", marker = \"o\", label = \"label 2\" )\n",
    "\n",
    "plt.title(\"Two dimensional features of normalized wine data samples\")\n",
    "plt.legend(loc=1)\n",
    "plt.show()"
   ]
  },
  {
   "cell_type": "markdown",
   "metadata": {},
   "source": [
    "# Problem  5\n",
    "I feel that the normalized data set seems to have a better classification performance. When you look at the two plots, the standardized features are all grouped together or are within the same area, give or take a few outliers that are in other labels. This is compared to the centered features which for the most part all are clustered together to where it is almost indiscernable."
   ]
  },
  {
   "cell_type": "markdown",
   "metadata": {},
   "source": [
    "# Naive Bayes Classification\n",
    "1. Build a three-class naive Bayes classifier that takes as input two-dimensional data and assumes each\n",
    "feature of the data to be conditionally Gaussian (i.e., Gaussian naive Bayes). You should assume that\n",
    "all classes are equally likely and that the class labels take values in the set {0, 1, 2}, as in the wine\n",
    "dataset.\n",
    "2. Use Gaussian naive Bayes classifier for classification of the wine dataset using K-fold cross validation\n",
    "with K = 5 as follows:1\n",
    "\n",
    "    • Case I: Perform classification using your implementation of Gaussian naive Bayes classifier and\n",
    "    two-dimensional PCA features of centered data only.\n",
    "    \n",
    "    • Case II: Perform classification using your implementation of Gaussian naive Bayes classifier and\n",
    "    two-dimensional PCA features of standardized data.\n",
    "    \n",
    "    • Case III: Perform classification using sklearn’s implementation of Gaussian naive Bayes classifier\n",
    "    (sklearn.naive_bayes.GaussianNB) and two-dimensional PCA features of standardized data.\n",
    "\n",
    "\n",
    "3. Compare and contrast the mean and variance of the classification accuracy of the classifiers in Case I,\n",
    "Case II, and Case III.\n"
   ]
  },
  {
   "cell_type": "code",
   "execution_count": null,
   "metadata": {},
   "outputs": [],
   "source": []
  }
 ],
 "metadata": {
  "kernelspec": {
   "display_name": "Python 3",
   "language": "python",
   "name": "python3"
  },
  "language_info": {
   "codemirror_mode": {
    "name": "ipython",
    "version": 3
   },
   "file_extension": ".py",
   "mimetype": "text/x-python",
   "name": "python",
   "nbconvert_exporter": "python",
   "pygments_lexer": "ipython3",
   "version": "3.6.5"
  }
 },
 "nbformat": 4,
 "nbformat_minor": 2
}
