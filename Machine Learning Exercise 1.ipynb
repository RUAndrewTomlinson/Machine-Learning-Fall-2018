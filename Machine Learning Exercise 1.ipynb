{
 "cells": [
  {
   "cell_type": "markdown",
   "metadata": {},
   "source": [
    "# Andrew Tomlinson Machine Learning Exercise 1"
   ]
  },
  {
   "cell_type": "markdown",
   "metadata": {},
   "source": [
    "# 1. Plot the GDP as a function of the year in Jupyter as shown below"
   ]
  },
  {
   "cell_type": "code",
   "execution_count": null,
   "metadata": {},
   "outputs": [],
   "source": [
    "\n",
    "from matplotlib import pyplot as plt\n",
    "x1 = (1930,1940,1950,1960,1970,1980,1990,2000,2010)\n",
    "y1 = (1.015,1.33,2.29,3.26,4.951,6.759,9.366,13.131,15.599)\n",
    "\n",
    "plt.plot(x1, y1, 'ro--', )\n",
    "plt.ylabel('trillions of $')\n",
    "plt.xlabel('year')\n",
    "plt.title('Real US GDP (USD)')\n",
    "plt.show()"
   ]
  },
  {
   "cell_type": "markdown",
   "metadata": {},
   "source": [
    "# 2. Based on the obtained plot, what is a possible mathematical relationship between GDP and Year?Carefully argue this point and see if you can learn to discuss this point within a markdown cell of Jupyter using mathematical notation.\n"
   ]
  },
  {
   "cell_type": "markdown",
   "metadata": {},
   "source": [
    "I believe that the relationship closely resembles the exponential function, $e^{(x-1930)/27}$. As the graph approaches the x-axis, it starts to flatten out. The function also seems to exponentially grow. In order to get a function that would fit our data, the exponential would have to be translated by 1930 to the right. Through trial and error, dividing the exponent by 27 seems to even the out to closely match our data."
   ]
  },
  {
   "cell_type": "markdown",
   "metadata": {},
   "source": [
    "# 3. Plot another curve that follows the mathematical relationship you have derived/argued between GDP and Year. This plot should be overlaid on top of the previous plot obtained using the actual GDP data."
   ]
  },
  {
   "cell_type": "code",
   "execution_count": null,
   "metadata": {},
   "outputs": [],
   "source": [
    "import numpy as np\n",
    "from matplotlib import pyplot as plt\n",
    "\n",
    "x1 = (1930,1940,1950,1960,1970,1980,1990,2000,2010)\n",
    "y1 = (1.015,1.33,2.29,3.26,4.951,6.759,9.366,13.131,15.599)\n",
    "\n",
    "# The Exponential function\n",
    "x = np.linspace(1930,2010, 10)\n",
    "y = np.exp((x-1930)/27)\n",
    "plt.figure()\n",
    "plt.plot(x1, y1, 'ro--', x, y, 'bo--')\n",
    "plt.ylabel('trillions of $')\n",
    "plt.xlabel('year')\n",
    "plt.title('Real Us GDP (USD)')\n",
    "plt.show()\n"
   ]
  }
 ],
 "metadata": {
  "kernelspec": {
   "display_name": "Python 3",
   "language": "python",
   "name": "python3"
  },
  "language_info": {
   "codemirror_mode": {
    "name": "ipython",
    "version": 3
   },
   "file_extension": ".py",
   "mimetype": "text/x-python",
   "name": "python",
   "nbconvert_exporter": "python",
   "pygments_lexer": "ipython3",
   "version": "3.6.5"
  }
 },
 "nbformat": 4,
 "nbformat_minor": 2
}
